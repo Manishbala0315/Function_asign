{
  "nbformat": 4,
  "nbformat_minor": 0,
  "metadata": {
    "colab": {
      "provenance": []
    },
    "kernelspec": {
      "name": "python3",
      "display_name": "Python 3"
    },
    "language_info": {
      "name": "python"
    }
  },
  "cells": [
    {
      "cell_type": "markdown",
      "source": [
        "Anser no 1"
      ],
      "metadata": {
        "id": "j3nGh-sjqFMH"
      }
    },
    {
      "cell_type": "code",
      "execution_count": null,
      "metadata": {
        "colab": {
          "base_uri": "https://localhost:8080/"
        },
        "id": "jUQev1Ewp0Ak",
        "outputId": "2d55037e-c7b2-49f1-d7a0-acae096a5a64"
      },
      "outputs": [
        {
          "output_type": "execute_result",
          "data": {
            "text/plain": [
              "[1, 3, 5, 7, 9, 11, 13, 15, 17, 19, 21, 23, 25]"
            ]
          },
          "metadata": {},
          "execution_count": 6
        }
      ],
      "source": [
        "#Def keyword use to crea a function\n",
        "def get_odd_numbers():\n",
        "    odd_numbers = []\n",
        "    for num in range(1, 26):\n",
        "        if num % 2 != 0:\n",
        "            odd_numbers.append(num)\n",
        "    return odd_numbers\n",
        "\n",
        "# Call the function and print the result\n",
        "get_odd_numbers()\n",
        "\n"
      ]
    },
    {
      "cell_type": "code",
      "source": [
        "#Q2. Why *args and **kwargs is used in some functions? Create a function each for *args and **kwargs\n",
        "#to demonstrate their use."
      ],
      "metadata": {
        "id": "e7YDaPwnqRv_"
      },
      "execution_count": null,
      "outputs": []
    },
    {
      "cell_type": "code",
      "source": [
        "#Anser *args and **kwargs are used in Python functions to\n",
        "#allow them to accept a variable number of arguments.\n",
        "#*args is used to pass a variable number of non-keyword (positional) arguments to a function.\n",
        "#**kwargs is used to pass a variable number of keyword arguments (or named arguments) to a function."
      ],
      "metadata": {
        "id": "LnINXt8Jr6L-"
      },
      "execution_count": null,
      "outputs": []
    },
    {
      "cell_type": "code",
      "source": [
        "#Q3. What is an iterator in python? Name the method used to initialise the iterator object and the method\n",
        "#used for iteration. Use these methods to print the first five elements of the given list [2, 4, 6, 8, 10, 12, 14,\n",
        "#16, 18, 20]."
      ],
      "metadata": {
        "id": "Jnxt5qiHsTwu"
      },
      "execution_count": null,
      "outputs": []
    },
    {
      "cell_type": "code",
      "source": [
        "#In Python, an iterator is an object that allows you to iterate over a sequence of elements. It implements two methods:\n",
        "# __iter__() and __next__().\n",
        "#example of iteratore\n",
        "# Given list\n",
        "my_list = [2, 4, 6, 8, 10, 12, 14, 16, 18, 20]\n",
        "\n",
        "# Create an iterator object\n",
        "my_iterator = iter(my_list)\n",
        "\n",
        "# Iterate and print the first five elements\n",
        "for _ in range(5):\n",
        "    element = next(my_iterator)\n",
        "    print(element)\n",
        "\n"
      ],
      "metadata": {
        "id": "UtWwBErMsYy2",
        "colab": {
          "base_uri": "https://localhost:8080/",
          "height": 142
        },
        "outputId": "f20be42d-e24f-45f5-dd99-14289b1dc1f6"
      },
      "execution_count": null,
      "outputs": [
        {
          "output_type": "error",
          "ename": "SyntaxError",
          "evalue": "ignored",
          "traceback": [
            "\u001b[0;36m  File \u001b[0;32m\"<ipython-input-1-e85746d61ad1>\"\u001b[0;36m, line \u001b[0;32m4\u001b[0m\n\u001b[0;31m    for num is nums :\u001b[0m\n\u001b[0m            ^\u001b[0m\n\u001b[0;31mSyntaxError\u001b[0m\u001b[0;31m:\u001b[0m invalid syntax\n"
          ]
        }
      ]
    },
    {
      "cell_type": "code",
      "source": [
        "#Q4.  What is a generator function in python? Why yield keyword is used? Give an example of a generator\n",
        "#function"
      ],
      "metadata": {
        "id": "MofBIIUBK-SY"
      },
      "execution_count": 1,
      "outputs": []
    },
    {
      "cell_type": "code",
      "source": [
        "#answer A generator function in Python is a special kind of function that allows you to iterate over a potentially large set of data. Instead of generating and returning all the values at once, a generator function yields one value at a time using the yield keyword. This allows for more memory-efficient and lazy evaluation, as values are generated on-the-fly during iteration.\n",
        "\n",
        "#The yield keyword is used to produce a value from the generator and temporarily suspends the function's state. The next time the generator is called, it resumes execution from where it was previously suspended.\n",
        "def fibonacci_generator(n):\n",
        "    a, b = 0, 1\n",
        "    count = 0\n",
        "    while count < n:\n",
        "        yield a\n",
        "        a, b = b, a + b\n",
        "        count += 1\n",
        "\n",
        "# Using the generator to print the first 10 Fibonacci numbers\n",
        "for num in fibonacci_generator(10):\n",
        "    print(num)\n"
      ],
      "metadata": {
        "colab": {
          "base_uri": "https://localhost:8080/"
        },
        "id": "_yQw3nlyzam1",
        "outputId": "8f3755df-cd2e-4e47-a600-4edb1a8e7717"
      },
      "execution_count": 2,
      "outputs": [
        {
          "output_type": "stream",
          "name": "stdout",
          "text": [
            "0\n",
            "1\n",
            "1\n",
            "2\n",
            "3\n",
            "5\n",
            "8\n",
            "13\n",
            "21\n",
            "34\n"
          ]
        }
      ]
    },
    {
      "cell_type": "code",
      "source": [
        "#Q5. Create a generator function for prime numbers less than 1000. Use the next() method to print the\n",
        "#first 20 prime numbers"
      ],
      "metadata": {
        "id": "yG3ugypbztzE"
      },
      "execution_count": 3,
      "outputs": []
    },
    {
      "cell_type": "code",
      "source": [
        "#anser Certainly! Here's an example of a generator function that produces prime numbers less than 1000, and then we use the next() method to print the first 20 prime numbers:\n",
        "def is_prime(num):\n",
        "    \"\"\"Check if a number is prime.\"\"\"\n",
        "    if num < 2:\n",
        "        return False\n",
        "    for i in range(2, int(num**0.5) + 1):\n",
        "        if num % i == 0:\n",
        "            return False\n",
        "    return True\n",
        "\n",
        "def prime_generator():\n",
        "    \"\"\"Generate prime numbers less than 1000.\"\"\"\n",
        "    num = 2\n",
        "    count = 0\n",
        "    while num < 1000 and count < 20:\n",
        "        if is_prime(num):\n",
        "            yield num\n",
        "            count += 1\n",
        "        num += 1\n",
        "\n",
        "# Using the generator to print the first 20 prime numbers\n",
        "for _ in range(20):\n",
        "    prime_number = next(prime_generator())\n",
        "    print(prime_number)\n"
      ],
      "metadata": {
        "colab": {
          "base_uri": "https://localhost:8080/"
        },
        "id": "jZeaIkyPz1Sq",
        "outputId": "68d0b9bd-072d-49d1-e914-1554af405133"
      },
      "execution_count": 4,
      "outputs": [
        {
          "output_type": "stream",
          "name": "stdout",
          "text": [
            "2\n",
            "2\n",
            "2\n",
            "2\n",
            "2\n",
            "2\n",
            "2\n",
            "2\n",
            "2\n",
            "2\n",
            "2\n",
            "2\n",
            "2\n",
            "2\n",
            "2\n",
            "2\n",
            "2\n",
            "2\n",
            "2\n",
            "2\n"
          ]
        }
      ]
    },
    {
      "cell_type": "code",
      "source": [
        "#Q6. Write a python program to print the first 10 Fibonacci numbers using a while loop.\n",
        "#anser\n",
        "# Function to calculate the nth Fibonacci number\n",
        "def fibonacci(n):\n",
        "    if n <= 1:\n",
        "        return n\n",
        "    else:\n",
        "        a, b = 0, 1\n",
        "        for _ in range(n - 1):\n",
        "            a, b = b, a + b\n",
        "        return b\n",
        "\n",
        "# Print the first 10 Fibonacci numbers using a while loop\n"
      ],
      "metadata": {
        "id": "conDTTCAz9BS"
      },
      "execution_count": 5,
      "outputs": []
    },
    {
      "cell_type": "code",
      "source": [
        "#Q7. Write a List Comprehension to iterate through the given string: ‘pwskills’.\n",
        "\n",
        "#Expected output: ['p', 'w', 's', 'k', 'i', 'l', 'l', 's']"
      ],
      "metadata": {
        "id": "AGYhskgh0dXL"
      },
      "execution_count": 6,
      "outputs": []
    },
    {
      "cell_type": "code",
      "source": [
        "#anser # Given string\n",
        "input_string = 'pwskills'\n",
        "\n",
        "# List comprehension to iterate through the string\n",
        "result_list = [char for char in input_string]\n",
        "\n",
        "# Print the result\n",
        "print(result_list)\n"
      ],
      "metadata": {
        "colab": {
          "base_uri": "https://localhost:8080/"
        },
        "id": "sxGFHR2x0jKS",
        "outputId": "85641b6d-868b-4818-9d33-27d9b2d877ba"
      },
      "execution_count": 7,
      "outputs": [
        {
          "output_type": "stream",
          "name": "stdout",
          "text": [
            "['p', 'w', 's', 'k', 'i', 'l', 'l', 's']\n"
          ]
        }
      ]
    },
    {
      "cell_type": "code",
      "source": [
        "#Q8. Write a python program to check whether a given number is Palindrome or not using a while loop\n",
        "#anser\n",
        "# Function to check if a number is palindrome\n",
        "def is_palindrome(number):\n",
        "    original_number = number\n",
        "    reversed_number = 0\n",
        "\n",
        "    while number > 0:\n",
        "        digit = number % 10\n",
        "        reversed_number = reversed_number * 10 + digit\n",
        "        number = number // 10\n",
        "\n",
        "    return original_number == reversed_number\n",
        "\n",
        "# Input from the user\n",
        "num = int(input(\"Enter a number: \"))\n",
        "\n",
        "# Check if the number is palindrome\n",
        "if is_palindrome(num):\n",
        "    print(f\"{num} is a palindrome.\")\n",
        "else:\n",
        "    print(f\"{num} is not a palindrome.\")\n"
      ],
      "metadata": {
        "colab": {
          "base_uri": "https://localhost:8080/"
        },
        "id": "YIzG0EAy0rDy",
        "outputId": "5185e3bc-20de-4cca-f29f-98dd362a24ef"
      },
      "execution_count": 8,
      "outputs": [
        {
          "output_type": "stream",
          "name": "stdout",
          "text": [
            "Enter a number: 3\n",
            "3 is a palindrome.\n"
          ]
        }
      ]
    },
    {
      "cell_type": "code",
      "source": [
        "#Q9. Write a code to print odd numbers from 1 to 100 using list comprehension.\n",
        "\n",
        "#Note: Use a list comprehension to create a list from 1 to 100 and use another List comprehension to filter\n",
        "#out odd number"
      ],
      "metadata": {
        "id": "cF2xtMMW0yCC"
      },
      "execution_count": 10,
      "outputs": []
    },
    {
      "cell_type": "code",
      "source": [
        "# List comprehension to generate a list from 1 to 100\n",
        "numbers = [x for x in range(1, 101)]\n",
        "\n",
        "# List comprehension to filter out odd numbers\n",
        "odd_numbers = [num for num in numbers if num % 2 != 0]\n",
        "\n",
        "# Print the result\n",
        "print(odd_numbers)\n"
      ],
      "metadata": {
        "colab": {
          "base_uri": "https://localhost:8080/"
        },
        "id": "CxWen6DX06O6",
        "outputId": "631a3f1f-0a2b-46b6-e370-231f7accb9b3"
      },
      "execution_count": 11,
      "outputs": [
        {
          "output_type": "stream",
          "name": "stdout",
          "text": [
            "[1, 3, 5, 7, 9, 11, 13, 15, 17, 19, 21, 23, 25, 27, 29, 31, 33, 35, 37, 39, 41, 43, 45, 47, 49, 51, 53, 55, 57, 59, 61, 63, 65, 67, 69, 71, 73, 75, 77, 79, 81, 83, 85, 87, 89, 91, 93, 95, 97, 99]\n"
          ]
        }
      ]
    },
    {
      "cell_type": "code",
      "source": [],
      "metadata": {
        "id": "kQMcIfzS1C6q"
      },
      "execution_count": null,
      "outputs": []
    }
  ]
}